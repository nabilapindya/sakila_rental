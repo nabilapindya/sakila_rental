{
 "cells": [
  {
   "cell_type": "code",
   "execution_count": 3,
   "id": "bea19361",
   "metadata": {},
   "outputs": [],
   "source": [
    "import psycopg2"
   ]
  },
  {
   "cell_type": "code",
   "execution_count": 4,
   "id": "a9a5946b",
   "metadata": {},
   "outputs": [],
   "source": [
    "import mysql.connector"
   ]
  },
  {
   "cell_type": "code",
   "execution_count": 5,
   "id": "babf1795",
   "metadata": {},
   "outputs": [],
   "source": [
    "import pandas as pd"
   ]
  },
  {
   "cell_type": "code",
   "execution_count": 6,
   "id": "34394237",
   "metadata": {},
   "outputs": [],
   "source": [
    "import psycopg2.extras as extras"
   ]
  },
  {
   "cell_type": "code",
   "execution_count": 7,
   "id": "3b850ff5",
   "metadata": {},
   "outputs": [],
   "source": [
    "import warnings"
   ]
  },
  {
   "cell_type": "code",
   "execution_count": 8,
   "id": "fc9d191d",
   "metadata": {},
   "outputs": [],
   "source": [
    "# source database\n",
    "def get_conn_mysql():\n",
    "    conn = mysql.connector.connect(host=\"localhost\", port=3306, user=\"root\", password=\"\", db=\"sakila\")\n",
    "    # start a connection\n",
    "    cur = conn.cursor()\n",
    "    return cur, conn"
   ]
  },
  {
   "cell_type": "code",
   "execution_count": 9,
   "id": "df713e2c",
   "metadata": {},
   "outputs": [],
   "source": [
    "# target database\n",
    "def get_conn_postgresql():\n",
    "    conn = psycopg2.connect(host=\"bronto.ewi.utwente.nl\",database=\"dab_ds22231a_82\",user=\"dab_ds22231a_82\",password=\"xJk7LAOiN9Sjyffa\")\n",
    "    # start a connection\n",
    "    cur = conn.cursor()\n",
    "    return cur, conn"
   ]
  },
  {
   "cell_type": "code",
   "execution_count": 10,
   "id": "bb8a4990",
   "metadata": {},
   "outputs": [],
   "source": [
    "# loading the df into the target database tables\n",
    "def execute_values(conn, df, table):\n",
    "\n",
    "    tuples = [tuple(x) for x in df.to_numpy()]\n",
    "\n",
    "    cols = ','.join(list(df.columns))\n",
    "    # SQL query to execute\n",
    "    query = \"INSERT INTO %s(%s) VALUES %%s\" % (table, cols)\n",
    "    try:\n",
    "        extras.execute_values(cur2, query, tuples)\n",
    "        conn2.commit()\n",
    "    except (Exception, psycopg2.DatabaseError) as error:\n",
    "        print(\"Error: %s\" % error)\n",
    "        conn.rollback()\n",
    "        return 1\n",
    "    print(\"-------data updated/inserted into table----\",table)\n"
   ]
  },
  {
   "cell_type": "code",
   "execution_count": 11,
   "id": "08fd7b31",
   "metadata": {},
   "outputs": [],
   "source": [
    "warnings.simplefilter(\"ignore\", UserWarning)"
   ]
  },
  {
   "cell_type": "code",
   "execution_count": 12,
   "id": "37526b19",
   "metadata": {},
   "outputs": [],
   "source": [
    "cur1, conn1 = get_conn_mysql()"
   ]
  },
  {
   "cell_type": "code",
   "execution_count": 13,
   "id": "bc11059d",
   "metadata": {},
   "outputs": [],
   "source": [
    "cur2, conn2 = get_conn_postgresql()"
   ]
  },
  {
   "cell_type": "code",
   "execution_count": 14,
   "id": "f9e9d964",
   "metadata": {},
   "outputs": [],
   "source": [
    "cur2.execute(\"SET SEARCH_PATH TO project;\")"
   ]
  },
  {
   "cell_type": "code",
   "execution_count": 14,
   "id": "787e718a",
   "metadata": {},
   "outputs": [],
   "source": [
    "query_customer = \"select\\\n",
    "    cu.customer_id as customer_key,\\\n",
    "    cu.customer_id as customer_id,\\\n",
    "    cu.first_name as customer_first_name,\\\n",
    "    cu.last_name as customer_last_name,\\\n",
    "    cu.email as customer_email,\\\n",
    "    a.address as customer_address,\\\n",
    "    a.district as customer_district,\\\n",
    "    sakila.city.city as customer_city,\\\n",
    "    sakila.country.country as customer_country,\\\n",
    "    a.postal_code as customer_postal_code,\\\n",
    "    a.phone as customer_phone,\\\n",
    "    if(cu.active,\\\n",
    "    _utf8'active',\\\n",
    "    _utf8'') as customer_active from \\\n",
    "    (((sakila.customer cu \\\n",
    "join sakila.address a on \\\n",
    "    (cu.address_id = a.address_id)) \\\n",
    "join sakila.city on \\\n",
    "    (a.city_id = sakila.city.city_id)) \\\n",
    "join sakila.country on \\\n",
    "    (sakila.city.country_id = sakila.country.country_id))\""
   ]
  },
  {
   "cell_type": "code",
   "execution_count": 15,
   "id": "34aa216e",
   "metadata": {},
   "outputs": [],
   "source": [
    "df1= pd.read_sql(query_customer,con=conn1)"
   ]
  },
  {
   "cell_type": "code",
   "execution_count": 16,
   "id": "173fa147",
   "metadata": {},
   "outputs": [
    {
     "name": "stdout",
     "output_type": "stream",
     "text": [
      "-------data updated/inserted into table---- project.dim_customer\n"
     ]
    }
   ],
   "source": [
    "execute_values(conn2, df1,'project.dim_customer')"
   ]
  },
  {
   "cell_type": "code",
   "execution_count": 17,
   "id": "2ceba3ec",
   "metadata": {},
   "outputs": [],
   "source": [
    "query_film = \"select \\\n",
    "    sakila.film.film_id as film_key,\\\n",
    "    sakila.film.film_id as film_id, \\\n",
    "    sakila.film.title as film_title, \\\n",
    "    sakila.film.description as film_description, \\\n",
    "    sakila.film.release_year as film_release_year, \\\n",
    "    sakila.`language`.name  as film_language, \\\n",
    "    sakila.film.original_language_id as film_original_language, \\\n",
    "    sakila.film.rental_duration as film_rental_duration, \\\n",
    "    sakila.film.rental_rate as film_rental_rate, \\\n",
    "    sakila.film. length   as film_length, \\\n",
    "    sakila.film.replacement_cost as film_replacement_cost, \\\n",
    "    sakila.film.rating as film_rating, \\\n",
    "    sakila.film.special_features as film_special_feature, \\\n",
    "    sakila.category.name as film_category, \\\n",
    "    group_concat(concat(sakila.actor.first_name, _utf8' ',sakila.actor.last_name) separator ', ' ) as film_actors \\\n",
    "from \\\n",
    "    (((((sakila.category \\\n",
    "left join sakila.film_category on \\\n",
    "    (sakila.category.category_id = sakila.film_category.category_id)) \\\n",
    "left join sakila.film on \\\n",
    "    (sakila.film_category.film_id = sakila.film.film_id )) \\\n",
    "left join  sakila.film_actor  on \\\n",
    "    ( sakila.film.film_id  =  sakila.film_actor.film_id )) \\\n",
    "left join  sakila.actor  on \\\n",
    "    ( sakila.film_actor.actor_id  =  sakila.actor.actor_id )) \\\n",
    "join sakila.`language` on \\\n",
    "    (sakila.film.language_id = sakila.`language`.language_id)) \\\n",
    "group by \\\n",
    "     sakila.film.film_id, \\\n",
    "     sakila.category.name\""
   ]
  },
  {
   "cell_type": "code",
   "execution_count": 18,
   "id": "53181dfd",
   "metadata": {},
   "outputs": [],
   "source": [
    "df2= pd.read_sql(query_film,con=conn1)"
   ]
  },
  {
   "cell_type": "code",
   "execution_count": 19,
   "id": "9777baed",
   "metadata": {},
   "outputs": [],
   "source": [
    "df2.film_special_feature = df2.film_special_feature.astype(str)"
   ]
  },
  {
   "cell_type": "code",
   "execution_count": 20,
   "id": "d67e4cfc",
   "metadata": {},
   "outputs": [
    {
     "name": "stderr",
     "output_type": "stream",
     "text": [
      "C:\\Users\\PLN\\AppData\\Local\\Temp\\ipykernel_3316\\61376148.py:1: FutureWarning: The default value of regex will change from True to False in a future version. In addition, single character regular expressions will *not* be treated as literal strings when regex=True.\n",
      "  df2['film_special_feature'] = df2['film_special_feature'].str.replace('{','')\n"
     ]
    }
   ],
   "source": [
    "df2['film_special_feature'] = df2['film_special_feature'].str.replace('{','')"
   ]
  },
  {
   "cell_type": "code",
   "execution_count": 21,
   "id": "65c1f298",
   "metadata": {},
   "outputs": [
    {
     "name": "stderr",
     "output_type": "stream",
     "text": [
      "C:\\Users\\PLN\\AppData\\Local\\Temp\\ipykernel_3316\\181542963.py:1: FutureWarning: The default value of regex will change from True to False in a future version. In addition, single character regular expressions will *not* be treated as literal strings when regex=True.\n",
      "  df2['film_special_feature'] = df2['film_special_feature'].str.replace('}','')\n"
     ]
    }
   ],
   "source": [
    "df2['film_special_feature'] = df2['film_special_feature'].str.replace('}','')"
   ]
  },
  {
   "cell_type": "code",
   "execution_count": 22,
   "id": "c4bf75d2",
   "metadata": {},
   "outputs": [],
   "source": [
    "df2['film_special_feature'] = df2['film_special_feature'].str.replace(\"'\",'')"
   ]
  },
  {
   "cell_type": "code",
   "execution_count": 23,
   "id": "644baff1",
   "metadata": {},
   "outputs": [],
   "source": [
    "df2['film_special_feature'] = df2['film_special_feature'].str.replace(\", \",\",\")"
   ]
  },
  {
   "cell_type": "code",
   "execution_count": 24,
   "id": "0457f309",
   "metadata": {},
   "outputs": [
    {
     "data": {
      "text/plain": [
       "0             Deleted Scenes,Behind the Scenes\n",
       "1                      Trailers,Deleted Scenes\n",
       "2                      Trailers,Deleted Scenes\n",
       "3               Commentaries,Behind the Scenes\n",
       "4                               Deleted Scenes\n",
       "                        ...                   \n",
       "995                 Trailers,Behind the Scenes\n",
       "996                 Trailers,Behind the Scenes\n",
       "997                             Deleted Scenes\n",
       "998                    Trailers,Deleted Scenes\n",
       "999    Trailers,Commentaries,Behind the Scenes\n",
       "Name: film_special_feature, Length: 1000, dtype: object"
      ]
     },
     "execution_count": 24,
     "metadata": {},
     "output_type": "execute_result"
    }
   ],
   "source": [
    "df2.film_special_feature"
   ]
  },
  {
   "cell_type": "code",
   "execution_count": 25,
   "id": "e2b634a6",
   "metadata": {},
   "outputs": [
    {
     "name": "stdout",
     "output_type": "stream",
     "text": [
      "-------data updated/inserted into table---- project.dim_film\n"
     ]
    }
   ],
   "source": [
    "execute_values(conn2, df2,'project.dim_film')"
   ]
  },
  {
   "cell_type": "code",
   "execution_count": 26,
   "id": "b9871c13",
   "metadata": {},
   "outputs": [],
   "source": [
    "query_staff = \"select \\\n",
    "    s.staff_id as staff_key, \\\n",
    "    s.staff_id as staff_id, \\\n",
    "    s.first_name as staff_first_name, \\\n",
    "    s.last_name as staff_last_name, \\\n",
    "    concat(s.first_name, _utf8' ', s.last_name) as staff_full_name, \\\n",
    "    s.store_id as staff_store_id, \\\n",
    "    (select a.address  from address a where a.address_id =  \\\n",
    "        (select s2.address_id from store s2 where s2.address_id = s.store_id)) as staff_store_name, \\\n",
    "    if(s.active, \\\n",
    "    _utf8'active', \\\n",
    "    _utf8'') as staff_active \\\n",
    "from sakila.staff s\"\n"
   ]
  },
  {
   "cell_type": "code",
   "execution_count": 27,
   "id": "df49653f",
   "metadata": {},
   "outputs": [],
   "source": [
    "df3= pd.read_sql(query_staff,con=conn1)"
   ]
  },
  {
   "cell_type": "code",
   "execution_count": 28,
   "id": "c574050c",
   "metadata": {},
   "outputs": [
    {
     "name": "stdout",
     "output_type": "stream",
     "text": [
      "-------data updated/inserted into table---- project.dim_staff\n"
     ]
    }
   ],
   "source": [
    "execute_values(conn2, df3,'project.dim_staff')"
   ]
  },
  {
   "cell_type": "code",
   "execution_count": 29,
   "id": "2a82aeef",
   "metadata": {},
   "outputs": [],
   "source": [
    "query_store = \"select \\\n",
    "    s.store_id  as store_key, \\\n",
    "    s.store_id  as store_id, \\\n",
    "    a.address as store_address, \\\n",
    "    a.district  as store_district, \\\n",
    "    a.postal_code as store_postal_code, \\\n",
    "    a.phone as store_phone, \\\n",
    "    sakila.city.city as store_city, \\\n",
    "    sakila.country.country as store_country, \\\n",
    "    concat(st.first_name, _utf8' ', st.last_name) as store_manager \\\n",
    "    from \\\n",
    "    ((((sakila.store s \\\n",
    "    join sakila.address a on \\\n",
    "    (s.address_id = a.address_id)) \\\n",
    "    join sakila.city on \\\n",
    "    (a.city_id = sakila.city.city_id)) \\\n",
    "    join sakila.country on \\\n",
    "    (sakila.city.country_id = sakila.country.country_id)) \\\n",
    "    join sakila.staff st on \\\n",
    "    (st.staff_id = s.manager_staff_id))\""
   ]
  },
  {
   "cell_type": "code",
   "execution_count": 30,
   "id": "c4a4092b",
   "metadata": {},
   "outputs": [],
   "source": [
    "df4= pd.read_sql(query_store,con=conn1)"
   ]
  },
  {
   "cell_type": "code",
   "execution_count": 31,
   "id": "0dc1b2f5",
   "metadata": {},
   "outputs": [
    {
     "name": "stdout",
     "output_type": "stream",
     "text": [
      "-------data updated/inserted into table---- project.dim_store\n"
     ]
    }
   ],
   "source": [
    "execute_values(conn2, df4,'project.dim_store')"
   ]
  },
  {
   "cell_type": "code",
   "execution_count": 32,
   "id": "4c80ed43",
   "metadata": {},
   "outputs": [],
   "source": [
    "query_rental = \"select r.rental_id as rental_id, \\\n",
    " r.customer_id as dim_customer_key, \\\n",
    " i.film_id as film_key, \\\n",
    " i.store_id as store_key, \\\n",
    " r.staff_id as staff_key, \\\n",
    " CAST(r.rental_date AS char) as rental_date, \\\n",
    " CAST(r.return_date AS char) as return_date \\\n",
    " from (sakila.rental r \\\n",
    " join sakila.inventory i on \\\n",
    " (i.inventory_id = r.inventory_id))\""
   ]
  },
  {
   "cell_type": "code",
   "execution_count": 33,
   "id": "2b80dc93",
   "metadata": {},
   "outputs": [],
   "source": [
    "df5= pd.read_sql(query_rental,con=conn1)"
   ]
  },
  {
   "cell_type": "code",
   "execution_count": 34,
   "id": "f74e6fde",
   "metadata": {
    "scrolled": true
   },
   "outputs": [],
   "source": [
    "df5.rental_date = pd.to_datetime(df5.rental_date)"
   ]
  },
  {
   "cell_type": "code",
   "execution_count": 35,
   "id": "b77e8997",
   "metadata": {},
   "outputs": [
    {
     "name": "stdout",
     "output_type": "stream",
     "text": [
      "-------data updated/inserted into table---- project.fact_rental\n"
     ]
    }
   ],
   "source": [
    "execute_values(conn2, df5,'project.fact_rental')"
   ]
  },
  {
   "cell_type": "code",
   "execution_count": 15,
   "id": "2a1e91a1",
   "metadata": {},
   "outputs": [],
   "source": [
    "query_payment = \"select p.payment_id as payment_id, \\\n",
    "\t   CAST(i.film_id as char) as film_key, \\\n",
    "\t   p.staff_id as staff_key, \\\n",
    "\t   CAST(i.store_id as char) as store_key, \\\n",
    "\t   p.customer_id as customer_key, \\\n",
    "\t   p.amount as payment_amount, \\\n",
    "       CAST(p.payment_date AS char) as payment_date, \\\n",
    "       CAST(r.rental_date as char) as rental_date, \\\n",
    "\t   CAST(r.return_date as char) as return_date \\\n",
    "from ((sakila.payment p \\\n",
    "left join sakila.rental r on \\\n",
    "(r.rental_id = p.rental_id)) \\\n",
    "left join sakila.inventory i on \\\n",
    "(i.inventory_id = r.inventory_id))\""
   ]
  },
  {
   "cell_type": "code",
   "execution_count": 16,
   "id": "1a1388b2",
   "metadata": {},
   "outputs": [],
   "source": [
    "df6= pd.read_sql(query_payment,con=conn1)"
   ]
  },
  {
   "cell_type": "code",
   "execution_count": 81,
   "id": "cb840780",
   "metadata": {},
   "outputs": [],
   "source": [
    "df6.payment_date = pd.to_datetime(df6.payment_date)"
   ]
  },
  {
   "cell_type": "code",
   "execution_count": 17,
   "id": "6355667d",
   "metadata": {
    "scrolled": true
   },
   "outputs": [
    {
     "data": {
      "text/html": [
       "<div>\n",
       "<style scoped>\n",
       "    .dataframe tbody tr th:only-of-type {\n",
       "        vertical-align: middle;\n",
       "    }\n",
       "\n",
       "    .dataframe tbody tr th {\n",
       "        vertical-align: top;\n",
       "    }\n",
       "\n",
       "    .dataframe thead th {\n",
       "        text-align: right;\n",
       "    }\n",
       "</style>\n",
       "<table border=\"1\" class=\"dataframe\">\n",
       "  <thead>\n",
       "    <tr style=\"text-align: right;\">\n",
       "      <th></th>\n",
       "      <th>payment_id</th>\n",
       "      <th>film_key</th>\n",
       "      <th>staff_key</th>\n",
       "      <th>store_key</th>\n",
       "      <th>customer_key</th>\n",
       "      <th>payment_amount</th>\n",
       "      <th>payment_date</th>\n",
       "      <th>rental_date</th>\n",
       "      <th>return_date</th>\n",
       "    </tr>\n",
       "  </thead>\n",
       "  <tbody>\n",
       "    <tr>\n",
       "      <th>0</th>\n",
       "      <td>1</td>\n",
       "      <td>663</td>\n",
       "      <td>1</td>\n",
       "      <td>2</td>\n",
       "      <td>1</td>\n",
       "      <td>2.99</td>\n",
       "      <td>2005-05-25 11:30:37</td>\n",
       "      <td>2005-05-25 11:30:37</td>\n",
       "      <td>2005-06-03 12:00:37</td>\n",
       "    </tr>\n",
       "    <tr>\n",
       "      <th>1</th>\n",
       "      <td>2</td>\n",
       "      <td>875</td>\n",
       "      <td>1</td>\n",
       "      <td>2</td>\n",
       "      <td>1</td>\n",
       "      <td>0.99</td>\n",
       "      <td>2005-05-28 10:35:23</td>\n",
       "      <td>2005-05-28 10:35:23</td>\n",
       "      <td>2005-06-03 06:32:23</td>\n",
       "    </tr>\n",
       "    <tr>\n",
       "      <th>2</th>\n",
       "      <td>3</td>\n",
       "      <td>611</td>\n",
       "      <td>1</td>\n",
       "      <td>1</td>\n",
       "      <td>1</td>\n",
       "      <td>5.99</td>\n",
       "      <td>2005-06-15 00:54:12</td>\n",
       "      <td>2005-06-15 00:54:12</td>\n",
       "      <td>2005-06-23 02:42:12</td>\n",
       "    </tr>\n",
       "    <tr>\n",
       "      <th>3</th>\n",
       "      <td>4</td>\n",
       "      <td>228</td>\n",
       "      <td>2</td>\n",
       "      <td>2</td>\n",
       "      <td>1</td>\n",
       "      <td>0.99</td>\n",
       "      <td>2005-06-15 18:02:53</td>\n",
       "      <td>2005-06-15 18:02:53</td>\n",
       "      <td>2005-06-19 15:54:53</td>\n",
       "    </tr>\n",
       "    <tr>\n",
       "      <th>4</th>\n",
       "      <td>5</td>\n",
       "      <td>308</td>\n",
       "      <td>2</td>\n",
       "      <td>1</td>\n",
       "      <td>1</td>\n",
       "      <td>9.99</td>\n",
       "      <td>2005-06-15 21:08:46</td>\n",
       "      <td>2005-06-15 21:08:46</td>\n",
       "      <td>2005-06-25 02:26:46</td>\n",
       "    </tr>\n",
       "    <tr>\n",
       "      <th>...</th>\n",
       "      <td>...</td>\n",
       "      <td>...</td>\n",
       "      <td>...</td>\n",
       "      <td>...</td>\n",
       "      <td>...</td>\n",
       "      <td>...</td>\n",
       "      <td>...</td>\n",
       "      <td>...</td>\n",
       "      <td>...</td>\n",
       "    </tr>\n",
       "    <tr>\n",
       "      <th>16044</th>\n",
       "      <td>16045</td>\n",
       "      <td>1000</td>\n",
       "      <td>1</td>\n",
       "      <td>1</td>\n",
       "      <td>599</td>\n",
       "      <td>4.99</td>\n",
       "      <td>2005-08-21 17:43:42</td>\n",
       "      <td>2005-08-21 17:43:42</td>\n",
       "      <td>2005-08-22 18:53:42</td>\n",
       "    </tr>\n",
       "    <tr>\n",
       "      <th>16045</th>\n",
       "      <td>16046</td>\n",
       "      <td>891</td>\n",
       "      <td>1</td>\n",
       "      <td>2</td>\n",
       "      <td>599</td>\n",
       "      <td>1.99</td>\n",
       "      <td>2005-08-21 21:41:57</td>\n",
       "      <td>2005-08-21 21:41:57</td>\n",
       "      <td>2005-08-25 20:37:57</td>\n",
       "    </tr>\n",
       "    <tr>\n",
       "      <th>16046</th>\n",
       "      <td>16047</td>\n",
       "      <td>881</td>\n",
       "      <td>2</td>\n",
       "      <td>2</td>\n",
       "      <td>599</td>\n",
       "      <td>8.99</td>\n",
       "      <td>2005-08-23 06:09:44</td>\n",
       "      <td>2005-08-23 06:09:44</td>\n",
       "      <td>2005-09-01 06:53:44</td>\n",
       "    </tr>\n",
       "    <tr>\n",
       "      <th>16047</th>\n",
       "      <td>16048</td>\n",
       "      <td>869</td>\n",
       "      <td>2</td>\n",
       "      <td>2</td>\n",
       "      <td>599</td>\n",
       "      <td>2.99</td>\n",
       "      <td>2005-08-23 11:08:46</td>\n",
       "      <td>2005-08-23 11:08:46</td>\n",
       "      <td>2005-08-25 07:25:46</td>\n",
       "    </tr>\n",
       "    <tr>\n",
       "      <th>16048</th>\n",
       "      <td>16049</td>\n",
       "      <td>83</td>\n",
       "      <td>2</td>\n",
       "      <td>2</td>\n",
       "      <td>599</td>\n",
       "      <td>2.99</td>\n",
       "      <td>2005-08-23 11:25:00</td>\n",
       "      <td>2005-08-23 11:25:00</td>\n",
       "      <td>2005-08-26 11:46:00</td>\n",
       "    </tr>\n",
       "  </tbody>\n",
       "</table>\n",
       "<p>16049 rows × 9 columns</p>\n",
       "</div>"
      ],
      "text/plain": [
       "       payment_id film_key  staff_key store_key  customer_key  payment_amount  \\\n",
       "0               1      663          1         2             1            2.99   \n",
       "1               2      875          1         2             1            0.99   \n",
       "2               3      611          1         1             1            5.99   \n",
       "3               4      228          2         2             1            0.99   \n",
       "4               5      308          2         1             1            9.99   \n",
       "...           ...      ...        ...       ...           ...             ...   \n",
       "16044       16045     1000          1         1           599            4.99   \n",
       "16045       16046      891          1         2           599            1.99   \n",
       "16046       16047      881          2         2           599            8.99   \n",
       "16047       16048      869          2         2           599            2.99   \n",
       "16048       16049       83          2         2           599            2.99   \n",
       "\n",
       "              payment_date          rental_date          return_date  \n",
       "0      2005-05-25 11:30:37  2005-05-25 11:30:37  2005-06-03 12:00:37  \n",
       "1      2005-05-28 10:35:23  2005-05-28 10:35:23  2005-06-03 06:32:23  \n",
       "2      2005-06-15 00:54:12  2005-06-15 00:54:12  2005-06-23 02:42:12  \n",
       "3      2005-06-15 18:02:53  2005-06-15 18:02:53  2005-06-19 15:54:53  \n",
       "4      2005-06-15 21:08:46  2005-06-15 21:08:46  2005-06-25 02:26:46  \n",
       "...                    ...                  ...                  ...  \n",
       "16044  2005-08-21 17:43:42  2005-08-21 17:43:42  2005-08-22 18:53:42  \n",
       "16045  2005-08-21 21:41:57  2005-08-21 21:41:57  2005-08-25 20:37:57  \n",
       "16046  2005-08-23 06:09:44  2005-08-23 06:09:44  2005-09-01 06:53:44  \n",
       "16047  2005-08-23 11:08:46  2005-08-23 11:08:46  2005-08-25 07:25:46  \n",
       "16048  2005-08-23 11:25:00  2005-08-23 11:25:00  2005-08-26 11:46:00  \n",
       "\n",
       "[16049 rows x 9 columns]"
      ]
     },
     "execution_count": 17,
     "metadata": {},
     "output_type": "execute_result"
    }
   ],
   "source": [
    "df6"
   ]
  },
  {
   "cell_type": "code",
   "execution_count": 18,
   "id": "9c1d088d",
   "metadata": {},
   "outputs": [
    {
     "name": "stdout",
     "output_type": "stream",
     "text": [
      "-------data updated/inserted into table---- project.fact_payment\n"
     ]
    }
   ],
   "source": [
    "execute_values(conn2, df6,'project.fact_payment')"
   ]
  },
  {
   "cell_type": "code",
   "execution_count": 100,
   "id": "9c01a744",
   "metadata": {},
   "outputs": [],
   "source": [
    "query_inventory = \"select i.inventory_id as inventory_id, \\\n",
    "                    cast(i.store_id as char) as store_key, \\\n",
    "                    cast(i.film_id as char) as film_key \\\n",
    "                    from sakila.inventory i \""
   ]
  },
  {
   "cell_type": "code",
   "execution_count": 101,
   "id": "d70cb2ed",
   "metadata": {},
   "outputs": [],
   "source": [
    "df7= pd.read_sql(query_inventory,con=conn1)"
   ]
  },
  {
   "cell_type": "code",
   "execution_count": 102,
   "id": "bec17e91",
   "metadata": {},
   "outputs": [
    {
     "data": {
      "text/html": [
       "<div>\n",
       "<style scoped>\n",
       "    .dataframe tbody tr th:only-of-type {\n",
       "        vertical-align: middle;\n",
       "    }\n",
       "\n",
       "    .dataframe tbody tr th {\n",
       "        vertical-align: top;\n",
       "    }\n",
       "\n",
       "    .dataframe thead th {\n",
       "        text-align: right;\n",
       "    }\n",
       "</style>\n",
       "<table border=\"1\" class=\"dataframe\">\n",
       "  <thead>\n",
       "    <tr style=\"text-align: right;\">\n",
       "      <th></th>\n",
       "      <th>inventory_id</th>\n",
       "      <th>store_key</th>\n",
       "      <th>film_key</th>\n",
       "    </tr>\n",
       "  </thead>\n",
       "  <tbody>\n",
       "    <tr>\n",
       "      <th>0</th>\n",
       "      <td>1</td>\n",
       "      <td>1</td>\n",
       "      <td>1</td>\n",
       "    </tr>\n",
       "    <tr>\n",
       "      <th>1</th>\n",
       "      <td>2</td>\n",
       "      <td>1</td>\n",
       "      <td>1</td>\n",
       "    </tr>\n",
       "    <tr>\n",
       "      <th>2</th>\n",
       "      <td>3</td>\n",
       "      <td>1</td>\n",
       "      <td>1</td>\n",
       "    </tr>\n",
       "    <tr>\n",
       "      <th>3</th>\n",
       "      <td>4</td>\n",
       "      <td>1</td>\n",
       "      <td>1</td>\n",
       "    </tr>\n",
       "    <tr>\n",
       "      <th>4</th>\n",
       "      <td>16</td>\n",
       "      <td>1</td>\n",
       "      <td>4</td>\n",
       "    </tr>\n",
       "    <tr>\n",
       "      <th>...</th>\n",
       "      <td>...</td>\n",
       "      <td>...</td>\n",
       "      <td>...</td>\n",
       "    </tr>\n",
       "    <tr>\n",
       "      <th>4576</th>\n",
       "      <td>4573</td>\n",
       "      <td>2</td>\n",
       "      <td>999</td>\n",
       "    </tr>\n",
       "    <tr>\n",
       "      <th>4577</th>\n",
       "      <td>4578</td>\n",
       "      <td>2</td>\n",
       "      <td>1000</td>\n",
       "    </tr>\n",
       "    <tr>\n",
       "      <th>4578</th>\n",
       "      <td>4579</td>\n",
       "      <td>2</td>\n",
       "      <td>1000</td>\n",
       "    </tr>\n",
       "    <tr>\n",
       "      <th>4579</th>\n",
       "      <td>4580</td>\n",
       "      <td>2</td>\n",
       "      <td>1000</td>\n",
       "    </tr>\n",
       "    <tr>\n",
       "      <th>4580</th>\n",
       "      <td>4581</td>\n",
       "      <td>2</td>\n",
       "      <td>1000</td>\n",
       "    </tr>\n",
       "  </tbody>\n",
       "</table>\n",
       "<p>4581 rows × 3 columns</p>\n",
       "</div>"
      ],
      "text/plain": [
       "      inventory_id store_key film_key\n",
       "0                1         1        1\n",
       "1                2         1        1\n",
       "2                3         1        1\n",
       "3                4         1        1\n",
       "4               16         1        4\n",
       "...            ...       ...      ...\n",
       "4576          4573         2      999\n",
       "4577          4578         2     1000\n",
       "4578          4579         2     1000\n",
       "4579          4580         2     1000\n",
       "4580          4581         2     1000\n",
       "\n",
       "[4581 rows x 3 columns]"
      ]
     },
     "execution_count": 102,
     "metadata": {},
     "output_type": "execute_result"
    }
   ],
   "source": [
    "df7"
   ]
  },
  {
   "cell_type": "code",
   "execution_count": 103,
   "id": "82950649",
   "metadata": {},
   "outputs": [
    {
     "name": "stdout",
     "output_type": "stream",
     "text": [
      "-------data updated/inserted into table---- project.fact_inventory\n"
     ]
    }
   ],
   "source": [
    "execute_values(conn2, df7,'project.fact_inventory')"
   ]
  },
  {
   "cell_type": "code",
   "execution_count": null,
   "id": "41b2839e",
   "metadata": {},
   "outputs": [],
   "source": []
  }
 ],
 "metadata": {
  "kernelspec": {
   "display_name": "Python 3 (ipykernel)",
   "language": "python",
   "name": "python3"
  },
  "language_info": {
   "codemirror_mode": {
    "name": "ipython",
    "version": 3
   },
   "file_extension": ".py",
   "mimetype": "text/x-python",
   "name": "python",
   "nbconvert_exporter": "python",
   "pygments_lexer": "ipython3",
   "version": "3.9.13"
  }
 },
 "nbformat": 4,
 "nbformat_minor": 5
}
